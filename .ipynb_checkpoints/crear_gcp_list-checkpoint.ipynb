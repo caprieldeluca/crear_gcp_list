{
 "cells": [
  {
   "cell_type": "code",
   "execution_count": 1,
   "id": "2220bd8e",
   "metadata": {},
   "outputs": [],
   "source": [
    "from lxml import etree\n",
    "from pyproj.crs import CRS\n",
    "from pyproj.transformer import Transformer, TransformerGroup\n",
    "import pandas as pd\n",
    "import numpy as np"
   ]
  },
  {
   "cell_type": "code",
   "execution_count": 2,
   "id": "946dca2d",
   "metadata": {},
   "outputs": [
    {
     "name": "stdout",
     "output_type": "stream",
     "text": [
      "   id_GNSS       N_GNSS       E_GNSS  H_GNSS descripcion\n",
      "0     ETPB  6180035.318  5632093.369   8.230      hierro\n",
      "1        1  6180548.862  5629251.679   6.446      hierro\n",
      "2        1  6181766.343  5632616.829   6.446      estaca\n",
      "3        2  6184207.733  5628888.824   6.281      estaca\n",
      "4        3  6180495.684  5631238.262   6.531       Chapa\n",
      "5        4  6183618.500  5631347.718   6.619       Chapa\n",
      "6        5  6182496.410  5629660.222   8.049     Pintura\n",
      "7        6  6183920.811  5629284.748   8.038     Pintura\n",
      "8      C22  6184228.132  5630961.270   8.062     Pintura\n",
      "9        7  6184194.815  5633116.321   8.045     Pintura\n",
      "10       8  6180216.853  5630196.604   8.017     Pintura\n",
      "11       9  6180696.785  5633231.504   8.016     Pintura\n",
      "12     C24  6183853.205  5629649.254   8.043       Chapa\n",
      "13      10  6183910.874  5633593.544   5.900       Chapa\n",
      "14     C12  6182391.215  5630734.098   5.945       Chapa\n",
      "15      11  6183687.674  5633142.789   6.349       Chapa\n",
      "16      13  6182029.443  5631530.333   6.799       Chapa\n",
      "17      14  6180022.500  5631441.475   2.538       Chapa\n",
      "18      17  6184115.015  5630624.501   1.573       Chapa\n",
      "19      18  6184824.903  5632555.527   6.829       Chapa\n"
     ]
    }
   ],
   "source": [
    "# Crea el dataframe con los datos del relevamiento\n",
    "relevamiento = './data/relevamiento.csv'\n",
    "relevamiento_df = pd.read_csv(relevamiento, delimiter=\",\", header=0, encoding=\"utf-8\")\n",
    "print (relevamiento_df)"
   ]
  },
  {
   "cell_type": "code",
   "execution_count": 3,
   "id": "05ce5ad4",
   "metadata": {},
   "outputs": [
    {
     "name": "stdout",
     "output_type": "stream",
     "text": [
      "faja5_etiquetas = \n",
      " [['ETPB']\n",
      " ['1']\n",
      " ['1']\n",
      " ['2']\n",
      " ['3']\n",
      " ['4']\n",
      " ['5']\n",
      " ['6']\n",
      " ['C22']\n",
      " ['7']\n",
      " ['8']\n",
      " ['9']\n",
      " ['C24']\n",
      " ['10']\n",
      " ['C12']\n",
      " ['11']\n",
      " ['13']\n",
      " ['14']\n",
      " ['17']\n",
      " ['18']]\n",
      "faja5_puntos = \n",
      " [[6180035.318 5632093.369 8.23]\n",
      " [6180548.862 5629251.679 6.446]\n",
      " [6181766.343 5632616.829 6.446]\n",
      " [6184207.733 5628888.824 6.281]\n",
      " [6180495.684 5631238.262 6.531]\n",
      " [6183618.5 5631347.718 6.619]\n",
      " [6182496.41 5629660.222 8.049]\n",
      " [6183920.811 5629284.748 8.038]\n",
      " [6184228.132 5630961.27 8.062]\n",
      " [6184194.815 5633116.321 8.045]\n",
      " [6180216.853 5630196.604 8.017]\n",
      " [6180696.785 5633231.504 8.016]\n",
      " [6183853.205 5629649.254 8.043]\n",
      " [6183910.874 5633593.544 5.9]\n",
      " [6182391.215 5630734.098 5.945]\n",
      " [6183687.674 5633142.789 6.349]\n",
      " [6182029.443 5631530.333 6.799]\n",
      " [6180022.5 5631441.475 2.538]\n",
      " [6184115.015 5630624.501 1.573]\n",
      " [6184824.903 5632555.527 6.829]]\n"
     ]
    }
   ],
   "source": [
    "# Crea las numpy array\n",
    "relevamiento_arr = relevamiento_df.to_numpy()\n",
    "faja5_etiquetas = relevamiento_arr[::,[0]]\n",
    "faja5_puntos = relevamiento_arr[::,np.array([1,2,3])]\n",
    "print('faja5_etiquetas = \\n', faja5_etiquetas)\n",
    "print('faja5_puntos = \\n', faja5_puntos)"
   ]
  },
  {
   "cell_type": "code",
   "execution_count": 4,
   "id": "afe687b4",
   "metadata": {},
   "outputs": [
    {
     "name": "stdout",
     "output_type": "stream",
     "text": [
      "wgs84_crs =  epsg:4979\n",
      "faja5_crs =  epsg:5347\n"
     ]
    }
   ],
   "source": [
    "# Define los sistemas de coordenadas\n",
    "wgs84_crs = CRS.from_epsg(4979) # WGS84 (lat,lon,h)\n",
    "faja5_crs = CRS.from_epsg(5347) # Posgar2007/ Faja 5 (N,E)\n",
    "print('wgs84_crs = ', wgs84_crs)\n",
    "print('faja5_crs = ', faja5_crs)"
   ]
  },
  {
   "cell_type": "code",
   "execution_count": 5,
   "id": "b83312c0",
   "metadata": {},
   "outputs": [
    {
     "name": "stdout",
     "output_type": "stream",
     "text": [
      "faja5_to_wgs84 = \n",
      " proj=pipeline step proj=axisswap order=2,1 step inv proj=tmerc lat_0=-90 lon_0=-60 k=1 x_0=5500000 y_0=0 ellps=WGS84 step proj=unitconvert xy_in=rad z_in=m xy_out=deg z_out=m step proj=axisswap order=2,1\n"
     ]
    }
   ],
   "source": [
    "# Usa la transformación EPSG:5351 (en vez de EPSG:9264)\n",
    "faja5_to_wgs84 = TransformerGroup(faja5_crs, wgs84_crs).transformers[1]\n",
    "print('faja5_to_wgs84 = \\n', faja5_to_wgs84)"
   ]
  },
  {
   "cell_type": "code",
   "execution_count": 6,
   "id": "1e7630ba",
   "metadata": {},
   "outputs": [
    {
     "name": "stdout",
     "output_type": "stream",
     "text": [
      "wgs84_puntos = \n",
      " [[-34.51681897 -58.5614664    8.23      ]\n",
      " [-34.51255149 -58.5924827    6.446     ]\n",
      " [-34.50115224 -58.55603651   6.446     ]\n",
      " [-34.47962368 -58.59698559   6.281     ]\n",
      " [-34.51277957 -58.57084704   6.531     ]\n",
      " [-34.48462354 -58.57013606   6.619     ]\n",
      " [-34.49494919 -58.58833094   8.049     ]\n",
      " [-34.48215983 -58.59263349   8.038     ]\n",
      " [-34.47917881 -58.5744353    8.062     ]\n",
      " [-34.4792032  -58.5509781    8.045     ]\n",
      " [-34.5154245  -58.58214479   8.017     ]\n",
      " [-34.51071147 -58.54917863   8.016     ]\n",
      " [-34.48272334 -58.58865635   8.043     ]\n",
      " [-34.48170029 -58.54574041   5.9       ]\n",
      " [-34.49576156 -58.57662623   5.945     ]\n",
      " [-34.48376999 -58.55061101   6.349     ]\n",
      " [-34.49892048 -58.56790381   6.799     ]\n",
      " [-34.51701787 -58.56856177   2.538     ]\n",
      " [-34.4802409  -58.57808286   1.573     ]\n",
      " [-34.47359722 -58.5571786    6.829     ]]\n"
     ]
    }
   ],
   "source": [
    "# Transforma a WGS84 (la entrada es: N, E, Z)\n",
    "wgs84_puntos = (np.array(faja5_to_wgs84.transform(\n",
    "     faja5_puntos[::,0],\n",
    "     faja5_puntos[::,1],\n",
    "     faja5_puntos[::,2])).T)\n",
    "print('wgs84_puntos = \\n', wgs84_puntos)"
   ]
  },
  {
   "cell_type": "code",
   "execution_count": 7,
   "id": "aee618b2",
   "metadata": {},
   "outputs": [
    {
     "name": "stdout",
     "output_type": "stream",
     "text": [
      "geoidar16_transformer = \n",
      " proj=pipeline step inv proj=vgridshift grids=./geoidear16/geoidear16.gtx\n"
     ]
    }
   ],
   "source": [
    "# Usa la grilla para convertir altitudes SVN16 a alturas elipsoidales WGS84\n",
    "geoidar16_pipeline = r'+proj=pipeline +step +inv +proj=vgridshift +grids=./geoidear16/geoidear16.gtx'\n",
    "geoidar16_transformer = Transformer.from_pipeline(geoidar16_pipeline)\n",
    "print('geoidar16_transformer = \\n', geoidar16_transformer)"
   ]
  },
  {
   "cell_type": "code",
   "execution_count": 8,
   "id": "48fa2e72",
   "metadata": {},
   "outputs": [
    {
     "name": "stdout",
     "output_type": "stream",
     "text": [
      "wgs84_corregidos = \n",
      " [[-58.5614664  -34.51681897  24.37052768]\n",
      " [-58.5924827  -34.51255149  22.60086009]\n",
      " [-58.55603651 -34.50115224  22.58144231]\n",
      " [-58.59698559 -34.47962368  22.43189571]\n",
      " [-58.57084704 -34.51277957  22.6752892 ]\n",
      " [-58.57013606 -34.48462354  22.75703591]\n",
      " [-58.58833094 -34.49494919  24.1985774 ]\n",
      " [-58.59263349 -34.48215983  24.18718806]\n",
      " [-58.5744353  -34.47917881  24.20061521]\n",
      " [-58.5509781  -34.4792032   24.17247855]\n",
      " [-58.58214479 -34.5154245   24.16635146]\n",
      " [-58.54917863 -34.51071147  24.14948462]\n",
      " [-58.58865635 -34.48272334  24.18999833]\n",
      " [-58.54574041 -34.48170029  22.02558893]\n",
      " [-58.57662623 -34.49576156  22.08906383]\n",
      " [-58.55061101 -34.48376999  22.47739927]\n",
      " [-58.56790381 -34.49892048  22.94020123]\n",
      " [-58.56856177 -34.51701787  18.68184014]\n",
      " [-58.57808286 -34.4802409   17.7136099 ]\n",
      " [-58.5571786  -34.47359722  22.95810924]]\n"
     ]
    }
   ],
   "source": [
    "# Tranforma a alturas elipsoidales WGS84 (la entrada es lon,lat,h)\n",
    "wgs84_corregidos = (np.array(geoidar16_transformer.transform(\n",
    "    wgs84_puntos[::,1],\n",
    "    wgs84_puntos[::,0],\n",
    "    wgs84_puntos[::,2])).T)\n",
    "print('wgs84_corregidos = \\n', wgs84_corregidos)"
   ]
  },
  {
   "cell_type": "code",
   "execution_count": 9,
   "id": "0cd87151",
   "metadata": {},
   "outputs": [
    {
     "name": "stdout",
     "output_type": "stream",
     "text": [
      "wgs84_df = \n",
      "    marker_label    wgs84_x    wgs84_y    wgs84_z\n",
      "0          ETPB -58.561466 -34.516819  24.370528\n",
      "1             1 -58.592483 -34.512551   22.60086\n",
      "2             1 -58.556037 -34.501152  22.581442\n",
      "3             2 -58.596986 -34.479624  22.431896\n",
      "4             3 -58.570847  -34.51278  22.675289\n",
      "5             4 -58.570136 -34.484624  22.757036\n",
      "6             5 -58.588331 -34.494949  24.198577\n",
      "7             6 -58.592633  -34.48216  24.187188\n",
      "8           C22 -58.574435 -34.479179  24.200615\n",
      "9             7 -58.550978 -34.479203  24.172479\n",
      "10            8 -58.582145 -34.515424  24.166351\n",
      "11            9 -58.549179 -34.510711  24.149485\n",
      "12          C24 -58.588656 -34.482723  24.189998\n",
      "13           10  -58.54574   -34.4817  22.025589\n",
      "14          C12 -58.576626 -34.495762  22.089064\n",
      "15           11 -58.550611  -34.48377  22.477399\n",
      "16           13 -58.567904  -34.49892  22.940201\n",
      "17           14 -58.568562 -34.517018   18.68184\n",
      "18           17 -58.578083 -34.480241   17.71361\n",
      "19           18 -58.557179 -34.473597  22.958109\n"
     ]
    }
   ],
   "source": [
    "# Crea el dataframe de los puntos corregidos\n",
    "wgs84_etiquetados = np.concatenate((faja5_etiquetas, wgs84_corregidos), axis=1)\n",
    "wgs84_df = pd.DataFrame(wgs84_etiquetados,\n",
    "                          columns=['marker_label',\n",
    "                                   'wgs84_x',\n",
    "                                   'wgs84_y',\n",
    "                                   'wgs84_z'])\n",
    "print('wgs84_df = \\n', wgs84_df)"
   ]
  },
  {
   "cell_type": "code",
   "execution_count": 10,
   "id": "879346aa",
   "metadata": {},
   "outputs": [
    {
     "name": "stdout",
     "output_type": "stream",
     "text": [
      "<Element chunk at 0x7f09863c0e40>\n"
     ]
    }
   ],
   "source": [
    "# Lee el archivo de PAFs y crea el objeto 'chunk'\n",
    "with open('./data/pafs.xml') as pafs:\n",
    "    pafs_content = pafs.read().encode()\n",
    "    pafs_xml = etree.XML(pafs_content)[0]\n",
    "    print(pafs_xml)"
   ]
  },
  {
   "cell_type": "code",
   "execution_count": 11,
   "id": "d3a3b056",
   "metadata": {},
   "outputs": [
    {
     "name": "stdout",
     "output_type": "stream",
     "text": [
      "cameras_df = \n",
      "    camera_id  camera_label\n",
      "0          0  DJI_0152.JPG\n",
      "1          1  DJI_0153.JPG\n",
      "2          2  DJI_0154.JPG\n",
      "3          3  DJI_0155.JPG\n",
      "4          4  DJI_0156.JPG\n",
      "5          5  DJI_0157.JPG\n",
      "6          6  DJI_0158.JPG\n",
      "7          7  DJI_0159.JPG\n",
      "8          8  DJI_0160.JPG\n",
      "9          9  DJI_0161.JPG\n",
      "10        10  DJI_0162.JPG\n",
      "11        11  DJI_0163.JPG\n",
      "12        12  DJI_0164.JPG\n",
      "13        13  DJI_0165.JPG\n",
      "14        14  DJI_0166.JPG\n",
      "15        15  DJI_0167.JPG\n",
      "16        16  DJI_0168.JPG\n",
      "17        17  DJI_0169.JPG\n",
      "18        18  DJI_0170.JPG\n",
      "19        19  DJI_0171.JPG\n",
      "20        20  DJI_0172.JPG\n",
      "21        21  DJI_0173.JPG\n",
      "22        22  DJI_0174.JPG\n",
      "23        23  DJI_0175.JPG\n",
      "24        24  DJI_0176.JPG\n",
      "25        25  DJI_0177.JPG\n",
      "26        26  DJI_0178.JPG\n",
      "27        27  DJI_0179.JPG\n",
      "28        28  DJI_0180.JPG\n",
      "29        29  DJI_0181.JPG\n",
      "30        30  DJI_0182.JPG\n",
      "31        31  DJI_0183.JPG\n",
      "32        32  DJI_0184.JPG\n",
      "33        33  DJI_0185.JPG\n",
      "34        34  DJI_0186.JPG\n",
      "35        35  DJI_0187.JPG\n",
      "36        36  DJI_0188.JPG\n",
      "37        37  DJI_0189.JPG\n",
      "38        38  DJI_0190.JPG\n",
      "39        39  DJI_0191.JPG\n",
      "40        40  DJI_0192.JPG\n",
      "41        41  DJI_0193.JPG\n",
      "42        42  DJI_0194.JPG\n",
      "43        43  DJI_0195.JPG\n",
      "44        44  DJI_0196.JPG\n",
      "45        45  DJI_0197.JPG\n"
     ]
    }
   ],
   "source": [
    "# Crea el dataframe con la rama 'cameras'\n",
    "cameras_element = pafs_xml.find('cameras')\n",
    "cameras_n = len(cameras_element)\n",
    "cameras_attrs = ['id', 'label']\n",
    "cameras_list = [[cameras_element[camera].get(attr)\n",
    "                 for attr in cameras_attrs]\n",
    "                    for camera in range(cameras_n)]\n",
    "cameras_df = pd.DataFrame(cameras_list,\n",
    "                          columns=['camera_id',\n",
    "                                   'camera_label'])\n",
    "print('cameras_df = \\n', cameras_df)"
   ]
  },
  {
   "cell_type": "code",
   "execution_count": 12,
   "id": "b03919d9",
   "metadata": {},
   "outputs": [
    {
     "name": "stdout",
     "output_type": "stream",
     "text": [
      "markers_df = \n",
      "    marker_id marker_label             marker_x              marker_y  \\\n",
      "0         21           10           -58.548943   -34.505749999999998   \n",
      "1         22           11  -58.545687999999998   -34.502745999999997   \n",
      "2         28            3  -58.549037000000003  -34.5603238999999999   \n",
      "3         29            4           -58.548326   -34.502755999999997   \n",
      "4         30            5  -58.547204999999998   -34.504771000000001   \n",
      "5         31            6  -58.541156000000002   -34.509847999999997   \n",
      "6         32            7  -58.549584999999999   -34.501173000000002   \n",
      "7         33            8  -58.543785999999998            -34.503217   \n",
      "8         34            9  -58.544873999999997   -34.508423000000002   \n",
      "9         35          C12           -58.546672            -34.501128   \n",
      "10        36          C22  -58.544821000000001   -34.504251000000003   \n",
      "11        37          C24  -58.548867999999996   -34.508561000000001   \n",
      "\n",
      "               marker_z marker_enabled  \n",
      "0    22.652252000000001           true  \n",
      "1             22.463471           true  \n",
      "2    22.629088000000001           true  \n",
      "3    22.917222999999998           true  \n",
      "4    24.446911000000001           true  \n",
      "5    24.035924000000001           true  \n",
      "6   24.4222515999999998           true  \n",
      "7    24.321951999999999           true  \n",
      "8    24.194218999999999           true  \n",
      "9             22.645686           true  \n",
      "10   24.681606000000002           true  \n",
      "11   24.265075000000001           true  \n",
      "   marker_label             marker_x              marker_y  \\\n",
      "0            10           -58.548943   -34.505749999999998   \n",
      "1            11  -58.545687999999998   -34.502745999999997   \n",
      "2             3  -58.549037000000003  -34.5603238999999999   \n",
      "3             4           -58.548326   -34.502755999999997   \n",
      "4             5  -58.547204999999998   -34.504771000000001   \n",
      "5             6  -58.541156000000002   -34.509847999999997   \n",
      "6             7  -58.549584999999999   -34.501173000000002   \n",
      "7             8  -58.543785999999998            -34.503217   \n",
      "8             9  -58.544873999999997   -34.508423000000002   \n",
      "9           C12           -58.546672            -34.501128   \n",
      "10          C22  -58.544821000000001   -34.504251000000003   \n",
      "11          C24  -58.548867999999996   -34.508561000000001   \n",
      "\n",
      "               marker_z  \n",
      "0    22.652252000000001  \n",
      "1             22.463471  \n",
      "2    22.629088000000001  \n",
      "3    22.917222999999998  \n",
      "4    24.446911000000001  \n",
      "5    24.035924000000001  \n",
      "6   24.4222515999999998  \n",
      "7    24.321951999999999  \n",
      "8    24.194218999999999  \n",
      "9             22.645686  \n",
      "10   24.681606000000002  \n",
      "11   24.265075000000001  \n"
     ]
    }
   ],
   "source": [
    "# Crea el dataframe con la rama 'markers'\n",
    "markers_element = pafs_xml.find('markers')\n",
    "markers_purged = markers_element.findall(\".//reference[@enabled='true']\")\n",
    "markers_n = len(markers_purged)\n",
    "markers_attrs = ['id', 'label']\n",
    "references_attrs = ['x', 'y', 'z', 'enabled']\n",
    "markers_list = [\n",
    "    [markers_purged[marker].getparent().get(attr)\n",
    "                for attr in markers_attrs] + \n",
    "    [markers_purged[marker].get(attr)\n",
    "                 for attr in references_attrs]\n",
    "                    for marker in range(markers_n)]\n",
    "markers_df = pd.DataFrame(markers_list,\n",
    "                          columns=['marker_id',\n",
    "                                   'marker_label',\n",
    "                                   'marker_x',\n",
    "                                   'marker_y',\n",
    "                                   'marker_z',\n",
    "                                   'marker_enabled'],)\n",
    "print('markers_df = \\n', markers_df)\n",
    "print(markers_df[['marker_label','marker_x','marker_y','marker_z']])"
   ]
  },
  {
   "cell_type": "code",
   "execution_count": 13,
   "id": "588b9426",
   "metadata": {},
   "outputs": [
    {
     "name": "stdout",
     "output_type": "stream",
     "text": [
      "markers_wgs84_df = \n",
      "    marker_id marker_label    wgs84_x    wgs84_y    wgs84_z\n",
      "0         21           10  -58.54574   -34.4817  22.025589\n",
      "1         22           11 -58.550611  -34.48377  22.477399\n",
      "2         28            3 -58.570847  -34.51278  22.675289\n",
      "3         29            4 -58.570136 -34.484624  22.757036\n",
      "4         30            5 -58.588331 -34.494949  24.198577\n",
      "5         31            6 -58.592633  -34.48216  24.187188\n",
      "6         32            7 -58.550978 -34.479203  24.172479\n",
      "7         33            8 -58.582145 -34.515424  24.166351\n",
      "8         34            9 -58.549179 -34.510711  24.149485\n",
      "9         35          C12 -58.576626 -34.495762  22.089064\n",
      "10        36          C22 -58.574435 -34.479179  24.200615\n",
      "11        37          C24 -58.588656 -34.482723  24.189998\n"
     ]
    }
   ],
   "source": [
    "# Combina las coordenadas WGS84 calculadas en las 'markers'\n",
    "markers_wgs84_df = pd.merge(\n",
    "    markers_df,\n",
    "    wgs84_df,\n",
    "    how = 'inner',\n",
    "    on = 'marker_label')[['marker_id',\n",
    "                          'marker_label',\n",
    "                          'wgs84_x',\n",
    "                          'wgs84_y',\n",
    "                          'wgs84_z']]\n",
    "print('markers_wgs84_df = \\n', markers_wgs84_df)"
   ]
  },
  {
   "cell_type": "code",
   "execution_count": 14,
   "id": "e14d09d2",
   "metadata": {},
   "outputs": [
    {
     "name": "stdout",
     "output_type": "stream",
     "text": [
      "locations_df = \n",
      "     marker_id camera_id location_pinned   camera_x   camera_y\n",
      "0          21         0            true  3224.8149  3079.4067\n",
      "1          21         1            true  3507.1294  3188.4197\n",
      "2          21        34            true  2740.8899  581.65204\n",
      "3          21        35            true  2651.6711  1272.9917\n",
      "4          21        36            true  755.91449  2454.0088\n",
      "..        ...       ...             ...        ...        ...\n",
      "128        37        40            true  330.34442  14.014395\n",
      "129        37        41            true  284.47574  606.97467\n",
      "130        37        42            true  240.97263  1211.1615\n",
      "131        37        43            true  240.01657  2436.2109\n",
      "132        37        44            true  241.38635  3020.8879\n",
      "\n",
      "[133 rows x 5 columns]\n"
     ]
    }
   ],
   "source": [
    "# Crea el dataframe con cada elemento ('location') de la rama 'frames'\n",
    "frame0_element = pafs_xml.find('frames')[0]\n",
    "frame0_markers_locations = frame0_element.findall(\".//marker//location[@pinned='true']\")\n",
    "locations_attrs = ['camera_id', 'pinned', 'x', 'y']\n",
    "locations_n = len(frame0_markers_locations)\n",
    "locations_list =[\n",
    "    [frame0_markers_locations[location].getparent().get('marker_id')]+\n",
    "    [frame0_markers_locations[location].get(attr)\n",
    "        for attr in locations_attrs]\n",
    "            for location in range(locations_n)]\n",
    "locations_df = pd.DataFrame(locations_list,\n",
    "                            columns=['marker_id',\n",
    "                                     'camera_id',\n",
    "                                     'location_pinned',\n",
    "                                     'camera_x',\n",
    "                                     'camera_y'])\n",
    "print('locations_df = \\n', locations_df)"
   ]
  },
  {
   "cell_type": "code",
   "execution_count": 15,
   "id": "3525bd4a",
   "metadata": {},
   "outputs": [
    {
     "name": "stdout",
     "output_type": "stream",
     "text": [
      "combinado = \n",
      "        wgs84_x    wgs84_y    wgs84_z   camera_x   camera_y  camera_label  \\\n",
      "0    -58.54574   -34.4817  22.025589  3224.8149  3079.4067  DJI_0152.JPG   \n",
      "1    -58.54574   -34.4817  22.025589  3507.1294  3188.4197  DJI_0153.JPG   \n",
      "2    -58.54574   -34.4817  22.025589  2740.8899  581.65204  DJI_0186.JPG   \n",
      "3    -58.54574   -34.4817  22.025589  2651.6711  1272.9917  DJI_0187.JPG   \n",
      "4    -58.54574   -34.4817  22.025589  755.91449  2454.0088  DJI_0188.JPG   \n",
      "..         ...        ...        ...        ...        ...           ...   \n",
      "128 -58.550978 -34.479203  24.172479   2982.478  1888.9523  DJI_0179.JPG   \n",
      "129 -58.550978 -34.479203  24.172479  3104.9346  582.98596  DJI_0159.JPG   \n",
      "130 -58.550978 -34.479203  24.172479  3077.9902  1143.9349  DJI_0160.JPG   \n",
      "131 -58.550978 -34.479203  24.172479  2905.6611  2453.1155  DJI_0180.JPG   \n",
      "132 -58.550978 -34.479203  24.172479  2814.3342  3007.9958  DJI_0181.JPG   \n",
      "\n",
      "    marker_label  \n",
      "0             10  \n",
      "1             10  \n",
      "2             10  \n",
      "3             10  \n",
      "4             10  \n",
      "..           ...  \n",
      "128            7  \n",
      "129            7  \n",
      "130            7  \n",
      "131            7  \n",
      "132            7  \n",
      "\n",
      "[133 rows x 7 columns]\n"
     ]
    }
   ],
   "source": [
    "# Combina las coordenadas de las 'markers' y las de las 'cameras' en cada 'location'\n",
    "combinado = pd.merge(\n",
    "    pd.merge(\n",
    "        locations_df,\n",
    "        cameras_df,\n",
    "        how ='inner',\n",
    "        on ='camera_id'),\n",
    "    markers_wgs84_df,\n",
    "    how ='inner',\n",
    "    on = 'marker_id')[['wgs84_x',\n",
    "                       'wgs84_y',\n",
    "                       'wgs84_z',\n",
    "                       'camera_x',\n",
    "                       'camera_y',\n",
    "                       'camera_label',\n",
    "                       'marker_label'\n",
    "                       ]]\n",
    "print('combinado = \\n', combinado)"
   ]
  },
  {
   "cell_type": "code",
   "execution_count": 16,
   "id": "d0f2784e",
   "metadata": {},
   "outputs": [
    {
     "name": "stdout",
     "output_type": "stream",
     "text": [
      "wgs84_x         float64\n",
      "wgs84_y         float64\n",
      "wgs84_z         float64\n",
      "camera_x         object\n",
      "camera_y         object\n",
      "camera_label     object\n",
      "marker_label     object\n",
      "dtype: object\n"
     ]
    }
   ],
   "source": [
    "# Cambia a tipo float las columnas de coordenadas\n",
    "float_combinado = combinado.astype({'wgs84_x': float,\n",
    "                                    'wgs84_y': float,\n",
    "                                    'wgs84_z': float})\n",
    "print(float_combinado.dtypes)"
   ]
  },
  {
   "cell_type": "code",
   "execution_count": 17,
   "id": "aa1b30c6",
   "metadata": {},
   "outputs": [
    {
     "name": "stdout",
     "output_type": "stream",
     "text": [
      "rounded_combinado = \n",
      "        wgs84_x    wgs84_y  wgs84_z   camera_x   camera_y  camera_label  \\\n",
      "0   -58.545740 -34.481700   22.026  3224.8149  3079.4067  DJI_0152.JPG   \n",
      "1   -58.545740 -34.481700   22.026  3507.1294  3188.4197  DJI_0153.JPG   \n",
      "2   -58.545740 -34.481700   22.026  2740.8899  581.65204  DJI_0186.JPG   \n",
      "3   -58.545740 -34.481700   22.026  2651.6711  1272.9917  DJI_0187.JPG   \n",
      "4   -58.545740 -34.481700   22.026  755.91449  2454.0088  DJI_0188.JPG   \n",
      "..         ...        ...      ...        ...        ...           ...   \n",
      "128 -58.550978 -34.479203   24.172   2982.478  1888.9523  DJI_0179.JPG   \n",
      "129 -58.550978 -34.479203   24.172  3104.9346  582.98596  DJI_0159.JPG   \n",
      "130 -58.550978 -34.479203   24.172  3077.9902  1143.9349  DJI_0160.JPG   \n",
      "131 -58.550978 -34.479203   24.172  2905.6611  2453.1155  DJI_0180.JPG   \n",
      "132 -58.550978 -34.479203   24.172  2814.3342  3007.9958  DJI_0181.JPG   \n",
      "\n",
      "    marker_label  \n",
      "0             10  \n",
      "1             10  \n",
      "2             10  \n",
      "3             10  \n",
      "4             10  \n",
      "..           ...  \n",
      "128            7  \n",
      "129            7  \n",
      "130            7  \n",
      "131            7  \n",
      "132            7  \n",
      "\n",
      "[133 rows x 7 columns]\n"
     ]
    }
   ],
   "source": [
    "# Redondea\n",
    "rounded_combinado = float_combinado.round({'wgs84_x': 8,'wgs84_y': 8,'wgs84_z': 3})\n",
    "print('rounded_combinado = \\n', rounded_combinado)"
   ]
  },
  {
   "cell_type": "code",
   "execution_count": 18,
   "id": "d73995c6",
   "metadata": {},
   "outputs": [],
   "source": [
    "# Exporta\n",
    "with open('./output/gcp_list.txt', 'w') as archivo_salida:\n",
    "    archivo_salida.write('EPSG:4326\\n')\n",
    "    rounded_combinado.to_csv(archivo_salida,\n",
    "                             mode='a',\n",
    "                             sep=' ',\n",
    "                             header=False,\n",
    "                             index=False)"
   ]
  },
  {
   "cell_type": "code",
   "execution_count": null,
   "id": "d88af47a",
   "metadata": {},
   "outputs": [],
   "source": []
  }
 ],
 "metadata": {
  "kernelspec": {
   "display_name": "Python 3 (ipykernel)",
   "language": "python",
   "name": "python3"
  },
  "language_info": {
   "codemirror_mode": {
    "name": "ipython",
    "version": 3
   },
   "file_extension": ".py",
   "mimetype": "text/x-python",
   "name": "python",
   "nbconvert_exporter": "python",
   "pygments_lexer": "ipython3",
   "version": "3.9.7"
  }
 },
 "nbformat": 4,
 "nbformat_minor": 5
}
