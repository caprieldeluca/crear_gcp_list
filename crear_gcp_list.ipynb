{
 "cells": [
  {
   "cell_type": "code",
   "execution_count": null,
   "id": "2220bd8e",
   "metadata": {},
   "outputs": [],
   "source": [
    "from lxml import etree\n",
    "from pyproj.crs import CRS\n",
    "from pyproj.transformer import Transformer, TransformerGroup\n",
    "import pandas as pd\n",
    "import numpy as np"
   ]
  },
  {
   "cell_type": "code",
   "execution_count": null,
   "id": "946dca2d",
   "metadata": {},
   "outputs": [],
   "source": [
    "# Crea el dataframe con los datos del relevamiento\n",
    "relevamiento = './data/relevamiento.csv'\n",
    "relevamiento_df = pd.read_csv(relevamiento, delimiter=\",\", header=0, encoding=\"utf-8\")\n",
    "print (relevamiento_df)"
   ]
  },
  {
   "cell_type": "code",
   "execution_count": null,
   "id": "05ce5ad4",
   "metadata": {},
   "outputs": [],
   "source": [
    "# Crea las numpy array\n",
    "relevamiento_arr = relevamiento_df.to_numpy()\n",
    "faja5_etiquetas = relevamiento_arr[::,[0]]\n",
    "faja5_puntos = relevamiento_arr[::,np.array([1,2,3])]\n",
    "print('faja5_etiquetas = \\n', faja5_etiquetas)\n",
    "print('faja5_puntos = \\n', faja5_puntos)"
   ]
  },
  {
   "cell_type": "code",
   "execution_count": null,
   "id": "afe687b4",
   "metadata": {},
   "outputs": [],
   "source": [
    "# Define los sistemas de coordenadas\n",
    "wgs84_crs = CRS.from_epsg(4979) # WGS84 (lat,lon,h)\n",
    "faja5_crs = CRS.from_epsg(5347) # Posgar2007/ Faja 5 (N,E)\n",
    "print('wgs84_crs = ', wgs84_crs)\n",
    "print('faja5_crs = ', faja5_crs)"
   ]
  },
  {
   "cell_type": "code",
   "execution_count": null,
   "id": "b83312c0",
   "metadata": {},
   "outputs": [],
   "source": [
    "# Usa la transformación EPSG:5351 (en vez de EPSG:9264)\n",
    "faja5_to_wgs84 = TransformerGroup(faja5_crs, wgs84_crs).transformers[1]\n",
    "print('faja5_to_wgs84 = \\n', faja5_to_wgs84)"
   ]
  },
  {
   "cell_type": "code",
   "execution_count": null,
   "id": "1e7630ba",
   "metadata": {},
   "outputs": [],
   "source": [
    "# Transforma a WGS84 (la entrada es: N, E, Z)\n",
    "wgs84_puntos = (np.array(faja5_to_wgs84.transform(\n",
    "     faja5_puntos[::,0],\n",
    "     faja5_puntos[::,1],\n",
    "     faja5_puntos[::,2])).T)\n",
    "print('wgs84_puntos = \\n', wgs84_puntos)"
   ]
  },
  {
   "cell_type": "code",
   "execution_count": null,
   "id": "aee618b2",
   "metadata": {},
   "outputs": [],
   "source": [
    "# Usa la grilla para convertir altitudes SVN16 a alturas elipsoidales WGS84\n",
    "geoidar16_pipeline = r'+proj=pipeline +step +inv +proj=vgridshift +grids=./geoidear16/geoidear16.gtx'\n",
    "geoidar16_transformer = Transformer.from_pipeline(geoidar16_pipeline)\n",
    "print('geoidar16_transformer = \\n', geoidar16_transformer)"
   ]
  },
  {
   "cell_type": "code",
   "execution_count": null,
   "id": "48fa2e72",
   "metadata": {},
   "outputs": [],
   "source": [
    "# Tranforma a alturas elipsoidales WGS84 (la entrada es lon,lat,h)\n",
    "wgs84_corregidos = (np.array(geoidar16_transformer.transform(\n",
    "    wgs84_puntos[::,1],\n",
    "    wgs84_puntos[::,0],\n",
    "    wgs84_puntos[::,2])).T)\n",
    "print('wgs84_corregidos = \\n', wgs84_corregidos)"
   ]
  },
  {
   "cell_type": "code",
   "execution_count": null,
   "id": "0cd87151",
   "metadata": {},
   "outputs": [],
   "source": [
    "# Crea el dataframe de los puntos corregidos\n",
    "wgs84_etiquetados = np.concatenate((faja5_etiquetas, wgs84_corregidos), axis=1)\n",
    "wgs84_df = pd.DataFrame(wgs84_etiquetados,\n",
    "                          columns=['marker_label',\n",
    "                                   'wgs84_x',\n",
    "                                   'wgs84_y',\n",
    "                                   'wgs84_z'])\n",
    "print('wgs84_df = \\n', wgs84_df)"
   ]
  },
  {
   "cell_type": "code",
   "execution_count": null,
   "id": "879346aa",
   "metadata": {},
   "outputs": [],
   "source": [
    "# Lee el archivo de PAFs y crea el objeto 'chunk'\n",
    "with open('./data/pafs.xml') as pafs:\n",
    "    pafs_content = pafs.read().encode()\n",
    "    pafs_xml = etree.XML(pafs_content)[0]\n",
    "    print(pafs_xml)"
   ]
  },
  {
   "cell_type": "code",
   "execution_count": null,
   "id": "d3a3b056",
   "metadata": {},
   "outputs": [],
   "source": [
    "# Crea el dataframe con la rama 'cameras'\n",
    "cameras_element = pafs_xml.find('cameras')\n",
    "cameras_n = len(cameras_element)\n",
    "cameras_attrs = ['id', 'label']\n",
    "cameras_list = [[cameras_element[camera].get(attr)\n",
    "                 for attr in cameras_attrs]\n",
    "                    for camera in range(cameras_n)]\n",
    "cameras_df = pd.DataFrame(cameras_list,\n",
    "                          columns=['camera_id',\n",
    "                                   'camera_label'])\n",
    "print('cameras_df = \\n', cameras_df)"
   ]
  },
  {
   "cell_type": "code",
   "execution_count": null,
   "id": "b03919d9",
   "metadata": {},
   "outputs": [],
   "source": [
    "# Crea el dataframe con la rama 'markers'\n",
    "markers_element = pafs_xml.find('markers')\n",
    "markers_purged = markers_element.findall(\".//reference[@enabled='true']\")\n",
    "markers_n = len(markers_purged)\n",
    "markers_attrs = ['id', 'label']\n",
    "references_attrs = ['x', 'y', 'z', 'enabled']\n",
    "markers_list = [\n",
    "    [markers_purged[marker].getparent().get(attr)\n",
    "                for attr in markers_attrs] + \n",
    "    [markers_purged[marker].get(attr)\n",
    "                 for attr in references_attrs]\n",
    "                    for marker in range(markers_n)]\n",
    "markers_df = pd.DataFrame(markers_list,\n",
    "                          columns=['marker_id',\n",
    "                                   'marker_label',\n",
    "                                   'marker_x',\n",
    "                                   'marker_y',\n",
    "                                   'marker_z',\n",
    "                                   'marker_enabled'],)\n",
    "print('markers_df = \\n', markers_df)\n",
    "print(markers_df[['marker_label','marker_x','marker_y','marker_z']])"
   ]
  },
  {
   "cell_type": "code",
   "execution_count": null,
   "id": "588b9426",
   "metadata": {},
   "outputs": [],
   "source": [
    "# Combina las coordenadas WGS84 calculadas en las 'markers'\n",
    "markers_wgs84_df = pd.merge(\n",
    "    markers_df,\n",
    "    wgs84_df,\n",
    "    how = 'inner',\n",
    "    on = 'marker_label')[['marker_id',\n",
    "                          'marker_label',\n",
    "                          'wgs84_x',\n",
    "                          'wgs84_y',\n",
    "                          'wgs84_z']]\n",
    "print('markers_wgs84_df = \\n', markers_wgs84_df)"
   ]
  },
  {
   "cell_type": "code",
   "execution_count": null,
   "id": "e14d09d2",
   "metadata": {},
   "outputs": [],
   "source": [
    "# Crea el dataframe con cada elemento ('location') de la rama 'frames'\n",
    "frame0_element = pafs_xml.find('frames')[0]\n",
    "frame0_markers_locations = frame0_element.findall(\".//marker//location[@pinned='true']\")\n",
    "locations_attrs = ['camera_id', 'pinned', 'x', 'y']\n",
    "locations_n = len(frame0_markers_locations)\n",
    "locations_list =[\n",
    "    [frame0_markers_locations[location].getparent().get('marker_id')]+\n",
    "    [frame0_markers_locations[location].get(attr)\n",
    "        for attr in locations_attrs]\n",
    "            for location in range(locations_n)]\n",
    "locations_df = pd.DataFrame(locations_list,\n",
    "                            columns=['marker_id',\n",
    "                                     'camera_id',\n",
    "                                     'location_pinned',\n",
    "                                     'camera_x',\n",
    "                                     'camera_y'])\n",
    "print('locations_df = \\n', locations_df)"
   ]
  },
  {
   "cell_type": "code",
   "execution_count": null,
   "id": "3525bd4a",
   "metadata": {},
   "outputs": [],
   "source": [
    "# Combina las coordenadas de las 'markers' y las de las 'cameras' en cada 'location'\n",
    "combinado = pd.merge(\n",
    "    pd.merge(\n",
    "        locations_df,\n",
    "        cameras_df,\n",
    "        how ='inner',\n",
    "        on ='camera_id'),\n",
    "    markers_wgs84_df,\n",
    "    how ='inner',\n",
    "    on = 'marker_id')[['wgs84_x',\n",
    "                       'wgs84_y',\n",
    "                       'wgs84_z',\n",
    "                       'camera_x',\n",
    "                       'camera_y',\n",
    "                       'camera_label',\n",
    "                       'marker_label'\n",
    "                       ]]\n",
    "print('combinado = \\n', combinado)"
   ]
  },
  {
   "cell_type": "code",
   "execution_count": null,
   "id": "d0f2784e",
   "metadata": {},
   "outputs": [],
   "source": [
    "# Cambia a tipo float las columnas de coordenadas\n",
    "float_combinado = combinado.astype({'wgs84_x': float,\n",
    "                                    'wgs84_y': float,\n",
    "                                    'wgs84_z': float})\n",
    "print(float_combinado.dtypes)"
   ]
  },
  {
   "cell_type": "code",
   "execution_count": null,
   "id": "aa1b30c6",
   "metadata": {},
   "outputs": [],
   "source": [
    "# Redondea\n",
    "rounded_combinado = float_combinado.round({'wgs84_x': 8,'wgs84_y': 8,'wgs84_z': 3})\n",
    "print('rounded_combinado = \\n', rounded_combinado)"
   ]
  },
  {
   "cell_type": "code",
   "execution_count": null,
   "id": "d73995c6",
   "metadata": {},
   "outputs": [],
   "source": [
    "# Exporta\n",
    "with open('./output/gcp_list.txt', 'w') as archivo_salida:\n",
    "    archivo_salida.write('EPSG:4326\\n')\n",
    "    rounded_combinado.to_csv(archivo_salida,\n",
    "                             mode='a',\n",
    "                             sep=' ',\n",
    "                             header=False,\n",
    "                             index=False)"
   ]
  },
  {
   "cell_type": "code",
   "execution_count": null,
   "id": "d88af47a",
   "metadata": {},
   "outputs": [],
   "source": []
  }
 ],
 "metadata": {
  "kernelspec": {
   "display_name": "Python 3 (ipykernel)",
   "language": "python",
   "name": "python3"
  },
  "language_info": {
   "codemirror_mode": {
    "name": "ipython",
    "version": 3
   },
   "file_extension": ".py",
   "mimetype": "text/x-python",
   "name": "python",
   "nbconvert_exporter": "python",
   "pygments_lexer": "ipython3",
   "version": "3.9.7"
  }
 },
 "nbformat": 4,
 "nbformat_minor": 5
}
